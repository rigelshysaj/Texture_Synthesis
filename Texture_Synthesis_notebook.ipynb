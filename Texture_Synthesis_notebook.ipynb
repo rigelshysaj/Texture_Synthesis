{
  "cells": [
    {
      "cell_type": "code",
      "execution_count": null,
      "metadata": {
        "id": "XA2_1bTcbapp"
      },
      "outputs": [],
      "source": [
        "import torchvision\n",
        "from PIL import Image\n",
        "import numpy as np\n",
        "import torchvision.transforms as transforms\n",
        "from torch.utils.data import Dataset\n",
        "from torchvision.transforms.functional import to_tensor\n",
        "from tqdm import tqdm\n",
        "import torch.nn as nn\n",
        "import torch.optim as optim\n",
        "from torch.utils.data import DataLoader\n",
        "from torchvision.utils import save_image\n",
        "import os\n",
        "from google.colab import files\n",
        "import torchvision.models as models\n",
        "from torchvision.transforms import Resize\n",
        "import torch"
      ]
    },
    {
      "cell_type": "code",
      "execution_count": null,
      "metadata": {
        "colab": {
          "base_uri": "https://localhost:8080/",
          "height": 74
        },
        "id": "m2bBvhJEAAm1",
        "outputId": "e2dd790d-3c1e-4925-9d3c-ba7a6f135967"
      },
      "outputs": [
        {
          "output_type": "display_data",
          "data": {
            "text/plain": [
              "<IPython.core.display.HTML object>"
            ],
            "text/html": [
              "\n",
              "     <input type=\"file\" id=\"files-21d485bf-9ad2-48bf-b9f9-ee1e8d824f99\" name=\"files[]\" multiple disabled\n",
              "        style=\"border:none\" />\n",
              "     <output id=\"result-21d485bf-9ad2-48bf-b9f9-ee1e8d824f99\">\n",
              "      Upload widget is only available when the cell has been executed in the\n",
              "      current browser session. Please rerun this cell to enable.\n",
              "      </output>\n",
              "      <script>// Copyright 2017 Google LLC\n",
              "//\n",
              "// Licensed under the Apache License, Version 2.0 (the \"License\");\n",
              "// you may not use this file except in compliance with the License.\n",
              "// You may obtain a copy of the License at\n",
              "//\n",
              "//      http://www.apache.org/licenses/LICENSE-2.0\n",
              "//\n",
              "// Unless required by applicable law or agreed to in writing, software\n",
              "// distributed under the License is distributed on an \"AS IS\" BASIS,\n",
              "// WITHOUT WARRANTIES OR CONDITIONS OF ANY KIND, either express or implied.\n",
              "// See the License for the specific language governing permissions and\n",
              "// limitations under the License.\n",
              "\n",
              "/**\n",
              " * @fileoverview Helpers for google.colab Python module.\n",
              " */\n",
              "(function(scope) {\n",
              "function span(text, styleAttributes = {}) {\n",
              "  const element = document.createElement('span');\n",
              "  element.textContent = text;\n",
              "  for (const key of Object.keys(styleAttributes)) {\n",
              "    element.style[key] = styleAttributes[key];\n",
              "  }\n",
              "  return element;\n",
              "}\n",
              "\n",
              "// Max number of bytes which will be uploaded at a time.\n",
              "const MAX_PAYLOAD_SIZE = 100 * 1024;\n",
              "\n",
              "function _uploadFiles(inputId, outputId) {\n",
              "  const steps = uploadFilesStep(inputId, outputId);\n",
              "  const outputElement = document.getElementById(outputId);\n",
              "  // Cache steps on the outputElement to make it available for the next call\n",
              "  // to uploadFilesContinue from Python.\n",
              "  outputElement.steps = steps;\n",
              "\n",
              "  return _uploadFilesContinue(outputId);\n",
              "}\n",
              "\n",
              "// This is roughly an async generator (not supported in the browser yet),\n",
              "// where there are multiple asynchronous steps and the Python side is going\n",
              "// to poll for completion of each step.\n",
              "// This uses a Promise to block the python side on completion of each step,\n",
              "// then passes the result of the previous step as the input to the next step.\n",
              "function _uploadFilesContinue(outputId) {\n",
              "  const outputElement = document.getElementById(outputId);\n",
              "  const steps = outputElement.steps;\n",
              "\n",
              "  const next = steps.next(outputElement.lastPromiseValue);\n",
              "  return Promise.resolve(next.value.promise).then((value) => {\n",
              "    // Cache the last promise value to make it available to the next\n",
              "    // step of the generator.\n",
              "    outputElement.lastPromiseValue = value;\n",
              "    return next.value.response;\n",
              "  });\n",
              "}\n",
              "\n",
              "/**\n",
              " * Generator function which is called between each async step of the upload\n",
              " * process.\n",
              " * @param {string} inputId Element ID of the input file picker element.\n",
              " * @param {string} outputId Element ID of the output display.\n",
              " * @return {!Iterable<!Object>} Iterable of next steps.\n",
              " */\n",
              "function* uploadFilesStep(inputId, outputId) {\n",
              "  const inputElement = document.getElementById(inputId);\n",
              "  inputElement.disabled = false;\n",
              "\n",
              "  const outputElement = document.getElementById(outputId);\n",
              "  outputElement.innerHTML = '';\n",
              "\n",
              "  const pickedPromise = new Promise((resolve) => {\n",
              "    inputElement.addEventListener('change', (e) => {\n",
              "      resolve(e.target.files);\n",
              "    });\n",
              "  });\n",
              "\n",
              "  const cancel = document.createElement('button');\n",
              "  inputElement.parentElement.appendChild(cancel);\n",
              "  cancel.textContent = 'Cancel upload';\n",
              "  const cancelPromise = new Promise((resolve) => {\n",
              "    cancel.onclick = () => {\n",
              "      resolve(null);\n",
              "    };\n",
              "  });\n",
              "\n",
              "  // Wait for the user to pick the files.\n",
              "  const files = yield {\n",
              "    promise: Promise.race([pickedPromise, cancelPromise]),\n",
              "    response: {\n",
              "      action: 'starting',\n",
              "    }\n",
              "  };\n",
              "\n",
              "  cancel.remove();\n",
              "\n",
              "  // Disable the input element since further picks are not allowed.\n",
              "  inputElement.disabled = true;\n",
              "\n",
              "  if (!files) {\n",
              "    return {\n",
              "      response: {\n",
              "        action: 'complete',\n",
              "      }\n",
              "    };\n",
              "  }\n",
              "\n",
              "  for (const file of files) {\n",
              "    const li = document.createElement('li');\n",
              "    li.append(span(file.name, {fontWeight: 'bold'}));\n",
              "    li.append(span(\n",
              "        `(${file.type || 'n/a'}) - ${file.size} bytes, ` +\n",
              "        `last modified: ${\n",
              "            file.lastModifiedDate ? file.lastModifiedDate.toLocaleDateString() :\n",
              "                                    'n/a'} - `));\n",
              "    const percent = span('0% done');\n",
              "    li.appendChild(percent);\n",
              "\n",
              "    outputElement.appendChild(li);\n",
              "\n",
              "    const fileDataPromise = new Promise((resolve) => {\n",
              "      const reader = new FileReader();\n",
              "      reader.onload = (e) => {\n",
              "        resolve(e.target.result);\n",
              "      };\n",
              "      reader.readAsArrayBuffer(file);\n",
              "    });\n",
              "    // Wait for the data to be ready.\n",
              "    let fileData = yield {\n",
              "      promise: fileDataPromise,\n",
              "      response: {\n",
              "        action: 'continue',\n",
              "      }\n",
              "    };\n",
              "\n",
              "    // Use a chunked sending to avoid message size limits. See b/62115660.\n",
              "    let position = 0;\n",
              "    do {\n",
              "      const length = Math.min(fileData.byteLength - position, MAX_PAYLOAD_SIZE);\n",
              "      const chunk = new Uint8Array(fileData, position, length);\n",
              "      position += length;\n",
              "\n",
              "      const base64 = btoa(String.fromCharCode.apply(null, chunk));\n",
              "      yield {\n",
              "        response: {\n",
              "          action: 'append',\n",
              "          file: file.name,\n",
              "          data: base64,\n",
              "        },\n",
              "      };\n",
              "\n",
              "      let percentDone = fileData.byteLength === 0 ?\n",
              "          100 :\n",
              "          Math.round((position / fileData.byteLength) * 100);\n",
              "      percent.textContent = `${percentDone}% done`;\n",
              "\n",
              "    } while (position < fileData.byteLength);\n",
              "  }\n",
              "\n",
              "  // All done.\n",
              "  yield {\n",
              "    response: {\n",
              "      action: 'complete',\n",
              "    }\n",
              "  };\n",
              "}\n",
              "\n",
              "scope.google = scope.google || {};\n",
              "scope.google.colab = scope.google.colab || {};\n",
              "scope.google.colab._files = {\n",
              "  _uploadFiles,\n",
              "  _uploadFilesContinue,\n",
              "};\n",
              "})(self);\n",
              "</script> "
            ]
          },
          "metadata": {}
        },
        {
          "output_type": "stream",
          "name": "stdout",
          "text": [
            "Saving original_water.jpg to original_water.jpg\n"
          ]
        }
      ],
      "source": [
        "#Upload the dataset.zip or the image\n",
        "uploaded = files.upload()"
      ]
    },
    {
      "cell_type": "code",
      "execution_count": null,
      "metadata": {
        "colab": {
          "base_uri": "https://localhost:8080/"
        },
        "id": "AAjfgV34ABdT",
        "outputId": "d69b97ad-2f2b-467a-bb54-63a5daf3a201"
      },
      "outputs": [
        {
          "name": "stdout",
          "output_type": "stream",
          "text": [
            "/content\n"
          ]
        }
      ],
      "source": [
        "!pwd"
      ]
    },
    {
      "cell_type": "code",
      "execution_count": null,
      "metadata": {
        "colab": {
          "base_uri": "https://localhost:8080/"
        },
        "id": "9ocYyv8vAMX_",
        "outputId": "3d330fe7-d58a-40f6-cda1-7d9b330aa597"
      },
      "outputs": [
        {
          "output_type": "stream",
          "name": "stdout",
          "text": [
            "my_data  original_water.jpg  sample_data\n"
          ]
        }
      ],
      "source": [
        "!ls"
      ]
    },
    {
      "cell_type": "code",
      "source": [
        "#d_driven = True if data driven approach want to be used\n",
        "d_driven = False"
      ],
      "metadata": {
        "id": "q5LEEg9s0grH"
      },
      "execution_count": null,
      "outputs": []
    },
    {
      "cell_type": "code",
      "source": [
        "#unzip the dataset\n",
        "if(d_driven):\n",
        "  !unzip dotted.zip -d /content"
      ],
      "metadata": {
        "id": "LYFfATjzYYa4"
      },
      "execution_count": null,
      "outputs": []
    },
    {
      "cell_type": "code",
      "execution_count": null,
      "metadata": {
        "id": "uAXZGf2PvEj4"
      },
      "outputs": [],
      "source": [
        "#Create a folder for the results\n",
        "!mkdir -p /content/my_data"
      ]
    },
    {
      "cell_type": "code",
      "source": [
        "#configurable parameters\n",
        "lr = 0.0002\n",
        "batch_size = 8\n",
        "device = torch.device('cuda' if torch.cuda.is_available() else 'cpu')\n",
        "epochs = 100"
      ],
      "metadata": {
        "id": "JNU4WVKGYsuN"
      },
      "execution_count": null,
      "outputs": []
    },
    {
      "cell_type": "code",
      "execution_count": null,
      "metadata": {
        "id": "OqdYiw52iZmP"
      },
      "outputs": [],
      "source": [
        "if(d_driven):\n",
        "    textureName = \"data_driven_dotted\""
      ]
    },
    {
      "cell_type": "code",
      "source": [
        "#Open the original image and convert it in np.array and define the number of random crops\n",
        "if(not d_driven):\n",
        "    imagePath = \"original_water.jpg\"\n",
        "    image = Image.open(imagePath).convert('RGB')\n",
        "    image = np.array(image)\n",
        "    textureName = \"water-texture\"\n",
        "    size = 50"
      ],
      "metadata": {
        "id": "eRF7qjCoYjfm"
      },
      "execution_count": null,
      "outputs": []
    },
    {
      "cell_type": "code",
      "execution_count": null,
      "metadata": {
        "id": "XOWJXWzwYc8X"
      },
      "outputs": [],
      "source": [
        "#The dataset class. Based on d_driven decides to proced with data-free or data-driven approach\n",
        "class Textures(Dataset):\n",
        "    def __init__(self, principal_image=None, size=0, directory=\"\"):\n",
        "        super(Textures, self).__init__()\n",
        "        self.principal_image = principal_image\n",
        "        self.data = size\n",
        "\n",
        "        self.trans = transforms.Compose([\n",
        "            transforms.Normalize(mean=[0.5, 0.5, 0.5], std=[0.5, 0.5, 0.5]),\n",
        "            transforms.Resize((1024, 1024)),\n",
        "            transforms.RandomCrop((512, 512))\n",
        "        ])\n",
        "\n",
        "        if(d_driven):\n",
        "            self.image_paths = [os.path.join(directory, filename) for filename in os.listdir(directory) if filename.endswith('.jpg') ]\n",
        "        else:\n",
        "            self.principal_image = principal_image\n",
        "            self.data = size\n",
        "            self.principal_image = to_tensor(self.principal_image)\n",
        "\n",
        "    def __len__(self):\n",
        "        if(d_driven):\n",
        "            return len(self.image_paths)\n",
        "        return self.data\n",
        "\n",
        "    def __getitem__(self, index):\n",
        "\n",
        "        if(d_driven):\n",
        "            image_path = self.image_paths[index]\n",
        "            image = Image.open(image_path).convert('RGB')\n",
        "            image = np.array(image)\n",
        "            image = to_tensor(image)\n",
        "            image = self.trans(image)\n",
        "            return image\n",
        "\n",
        "        image = self.trans(self.principal_image)\n",
        "\n",
        "        return image"
      ]
    },
    {
      "cell_type": "code",
      "execution_count": null,
      "metadata": {
        "id": "_RDqlVksYszq"
      },
      "outputs": [],
      "source": [
        "#Defines the Discriminator class\n",
        "class Discriminator(nn.Module):\n",
        "    def __init__(self):\n",
        "        super(Discriminator, self).__init__()\n",
        "        self.model = nn.Sequential(\n",
        "            nn.Conv2d(3, 64, 4, 2, 1),\n",
        "            nn.LeakyReLU(0.2, inplace=True),\n",
        "            nn.Conv2d(64, 128, 4, 2, 1),\n",
        "            nn.BatchNorm2d(128),\n",
        "            nn.LeakyReLU(0.2, inplace=True),\n",
        "            nn.Conv2d(128, 256, 4, 2, 1),\n",
        "            nn.BatchNorm2d(256),\n",
        "            nn.LeakyReLU(0.2, inplace=True),\n",
        "            nn.Conv2d(256, 512, 4, 2, 1),\n",
        "            nn.BatchNorm2d(512),\n",
        "            nn.LeakyReLU(0.2, inplace=True),\n",
        "            nn.Conv2d(512, 1024, 4, 1, 0),\n",
        "            nn.BatchNorm2d(1024),\n",
        "            nn.LeakyReLU(0.2, inplace=True),\n",
        "            nn.Conv2d(1024, 1, 4, 1, 0),\n",
        "            nn.Sigmoid()\n",
        "        )\n",
        "\n",
        "    def forward(self, x):\n",
        "        return self.model(x)\n"
      ]
    },
    {
      "cell_type": "code",
      "source": [
        "#Defines the Generator class\n",
        "class Generator(nn.Module):\n",
        "    def __init__(self):\n",
        "        super(Generator, self).__init__()\n",
        "\n",
        "        #strato iniziale\n",
        "        model = [\n",
        "            nn.ReflectionPad2d(3),\n",
        "            nn.Conv2d(3, 64, 7),\n",
        "            nn.InstanceNorm2d(64),\n",
        "            nn.ReLU(inplace=True),\n",
        "        ]\n",
        "\n",
        "\n",
        "        #downSampling\n",
        "        model += [\n",
        "            nn.Conv2d(64, 128, 3, stride=2, padding=1),\n",
        "            nn.InstanceNorm2d(128),\n",
        "            nn.ReLU(inplace=True),\n",
        "            nn.Conv2d(128, 256, 3, stride=2, padding=1),\n",
        "            nn.InstanceNorm2d(256),\n",
        "            nn.ReLU(inplace=True),\n",
        "        ]\n",
        "\n",
        "        #blocchi residuali\n",
        "        model += [self._make_residual_block(256) for _ in range(9)]\n",
        "\n",
        "        model += [\n",
        "            nn.Upsample(scale_factor=2),\n",
        "            nn.Conv2d(256, 256, 3, stride=1, padding=1),\n",
        "            nn.InstanceNorm2d(256),\n",
        "            nn.ReLU(inplace=True),\n",
        "        ]\n",
        "\n",
        "        #upSampling\n",
        "        model += [\n",
        "            nn.Upsample(scale_factor=2),\n",
        "            nn.Conv2d(256, 128, 3, stride=1, padding=1),\n",
        "            nn.InstanceNorm2d(128),\n",
        "            nn.ReLU(inplace=True),\n",
        "            nn.Upsample(scale_factor=2),\n",
        "            nn.Conv2d(128, 64, 3, stride=1, padding=1),\n",
        "            nn.InstanceNorm2d(64),\n",
        "            nn.ReLU(inplace=True),\n",
        "        ]\n",
        "\n",
        "        #strato finale\n",
        "        model += [\n",
        "            nn.ReflectionPad2d(3),\n",
        "            nn.Conv2d(64, 3, 7),\n",
        "            nn.Tanh(),\n",
        "        ]\n",
        "\n",
        "        self.model = nn.Sequential(*model)\n",
        "\n",
        "\n",
        "    #La funzione dei blocchi residuali\n",
        "    def _make_residual_block(self, input):\n",
        "        block = nn.Sequential(\n",
        "            nn.ReflectionPad2d(1),\n",
        "            nn.Conv2d(input, input, 3),\n",
        "            nn.InstanceNorm2d(input),\n",
        "            nn.ReLU(inplace=True),\n",
        "            nn.ReflectionPad2d(1),\n",
        "            nn.Conv2d(input, input, 3),\n",
        "            nn.InstanceNorm2d(input),\n",
        "        )\n",
        "        return block\n",
        "\n",
        "    def forward(self, x):\n",
        "        return self.model(x)\n",
        "\n"
      ],
      "metadata": {
        "id": "6tnoNdJTr5Dk"
      },
      "execution_count": null,
      "outputs": []
    },
    {
      "cell_type": "code",
      "execution_count": null,
      "metadata": {
        "id": "M1yl807aKqxt"
      },
      "outputs": [],
      "source": [
        "#Defines the Perceptual Loss class\n",
        "class PerceptualLoss(nn.Module):\n",
        "    def __init__(self):\n",
        "        super(PerceptualLoss, self).__init__()\n",
        "        self.vgg = models.vgg16(pretrained=True).features[:16].eval()\n",
        "        for param in self.vgg.parameters():\n",
        "            param.requires_grad = False\n",
        "\n",
        "    def forward(self, generated, target):\n",
        "        generated_features = self.vgg(generated)\n",
        "        target_features = self.vgg(target)\n",
        "        loss = nn.functional.mse_loss(generated_features, target_features)\n",
        "        return loss"
      ]
    },
    {
      "cell_type": "code",
      "execution_count": null,
      "metadata": {
        "id": "mBS69CUxKv94",
        "colab": {
          "base_uri": "https://localhost:8080/"
        },
        "outputId": "f153be03-2984-450d-8205-186ec6b804fa"
      },
      "outputs": [
        {
          "output_type": "stream",
          "name": "stderr",
          "text": [
            "/usr/local/lib/python3.10/dist-packages/torchvision/models/_utils.py:208: UserWarning: The parameter 'pretrained' is deprecated since 0.13 and may be removed in the future, please use 'weights' instead.\n",
            "  warnings.warn(\n",
            "/usr/local/lib/python3.10/dist-packages/torchvision/models/_utils.py:223: UserWarning: Arguments other than a weight enum or `None` for 'weights' are deprecated since 0.13 and may be removed in the future. The current behavior is equivalent to passing `weights=VGG16_Weights.IMAGENET1K_V1`. You can also use `weights=VGG16_Weights.DEFAULT` to get the most up-to-date weights.\n",
            "  warnings.warn(msg)\n",
            "Downloading: \"https://download.pytorch.org/models/vgg16-397923af.pth\" to /root/.cache/torch/hub/checkpoints/vgg16-397923af.pth\n",
            "100%|██████████| 528M/528M [00:05<00:00, 110MB/s] \n"
          ]
        }
      ],
      "source": [
        "#initialize the Losses\n",
        "criterion_GAN = nn.BCELoss()\n",
        "criterion_perceptual = PerceptualLoss().to(device)"
      ]
    },
    {
      "cell_type": "code",
      "execution_count": null,
      "metadata": {
        "id": "AREFnz-tQoOQ"
      },
      "outputs": [],
      "source": [
        "#The main function used for the training\n",
        "def train(discriminator, generator, dataloader, optim_D, optim_G):\n",
        "\n",
        "    for epoch in range(epochs):\n",
        "        loop = tqdm(dataloader, leave=True)\n",
        "\n",
        "        for i, real_images in enumerate(loop):\n",
        "\n",
        "            original_shapes = real_images.shape\n",
        "\n",
        "            new_shape = (original_shapes[0], original_shapes[1], original_shapes[2] // 2, original_shapes[3] // 2)\n",
        "\n",
        "            real_images = real_images.to(device)\n",
        "\n",
        "            noise = torch.normal(0, 1, size=new_shape).to(device)\n",
        "            fake_images = generator(noise)\n",
        "\n",
        "            # Allenamento del discriminatore\n",
        "            optim_D.zero_grad()\n",
        "            real_preds = discriminator(real_images).squeeze()\n",
        "            fake_preds = discriminator(fake_images.detach()).squeeze()\n",
        "            loss_D_real = criterion_GAN(real_preds, torch.ones_like(real_preds))\n",
        "            loss_D_fake = criterion_GAN(fake_preds, torch.zeros_like(fake_preds))\n",
        "            loss_D = (loss_D_real + loss_D_fake) / 2\n",
        "            loss_D.backward()\n",
        "            optim_D.step()\n",
        "\n",
        "            # Allenamento del generatore\n",
        "            optim_G.zero_grad()\n",
        "            fake_preds = discriminator(fake_images).squeeze()\n",
        "            loss_G_GAN = criterion_GAN(fake_preds, torch.ones_like(fake_preds))\n",
        "            loss_G_perceptual = criterion_perceptual(fake_images, real_images)\n",
        "            loss_G = loss_G_GAN + loss_G_perceptual\n",
        "            loss_G.backward()\n",
        "            optim_G.step()\n",
        "\n",
        "            loop.set_postfix(Disc_Loss=loss_D.item(), Gen_Loss=loss_G.item(), Epoch=epoch)\n",
        "\n",
        "    # Salvataggio del modello del Generatore\n",
        "    torch.save(generator.state_dict(), f'generator_{textureName}.pth')\n",
        "    files.download(f'generator_{textureName}.pth')"
      ]
    },
    {
      "cell_type": "code",
      "execution_count": null,
      "metadata": {
        "id": "5OqfubPEZaYH"
      },
      "outputs": [],
      "source": [
        "#initialize the Discriminator, the Generator, Adam optimizers and the DataLoader\n",
        "discriminator = Discriminator().to(\"cuda\")\n",
        "generator = Generator().to(\"cuda\")\n",
        "\n",
        "optim_D = optim.Adam(discriminator.parameters(), lr=lr, betas=(0.5, 0.999))\n",
        "optim_G = optim.Adam(generator.parameters(), lr=lr, betas=(0.5, 0.999))\n",
        "\n",
        "if(d_driven):\n",
        "    dataset = Textures(directory = \"dotted\")\n",
        "else:\n",
        "    dataset = Textures(principal_image=image, size = size)\n",
        "\n",
        "dataloader = DataLoader(dataset, batch_size=batch_size, shuffle=True)"
      ]
    },
    {
      "cell_type": "code",
      "execution_count": null,
      "metadata": {
        "id": "JWaocdT6MJCV",
        "colab": {
          "base_uri": "https://localhost:8080/",
          "height": 1000
        },
        "outputId": "a84baacf-675f-41eb-c430-ea42652c1287"
      },
      "outputs": [
        {
          "output_type": "stream",
          "name": "stderr",
          "text": [
            "\r  0%|          | 0/7 [00:00<?, ?it/s]/usr/local/lib/python3.10/dist-packages/torchvision/transforms/functional.py:1603: UserWarning: The default value of the antialias parameter of all the resizing transforms (Resize(), RandomResizedCrop(), etc.) will change from None to True in v0.17, in order to be consistent across the PIL and Tensor backends. To suppress this warning, directly pass antialias=True (recommended, future default), antialias=None (current default, which means False for Tensors and True for PIL), or antialias=False (only works on Tensors - PIL will still use antialiasing). This also applies if you are using the inference transforms from the models weights: update the call to weights.transforms(antialias=True).\n",
            "  warnings.warn(\n",
            "100%|██████████| 7/7 [00:21<00:00,  3.01s/it, Disc_Loss=0.575, Epoch=0, Gen_Loss=3.79]\n",
            "100%|██████████| 7/7 [00:19<00:00,  2.72s/it, Disc_Loss=0.609, Epoch=1, Gen_Loss=4.45]\n",
            "100%|██████████| 7/7 [00:19<00:00,  2.76s/it, Disc_Loss=0.0243, Epoch=2, Gen_Loss=7.51]\n",
            "100%|██████████| 7/7 [00:19<00:00,  2.81s/it, Disc_Loss=0.0173, Epoch=3, Gen_Loss=7.82]\n",
            "100%|██████████| 7/7 [00:19<00:00,  2.82s/it, Disc_Loss=0.0127, Epoch=4, Gen_Loss=8.22]\n",
            "100%|██████████| 7/7 [00:19<00:00,  2.80s/it, Disc_Loss=1.03, Epoch=5, Gen_Loss=8.39]\n",
            "100%|██████████| 7/7 [00:19<00:00,  2.82s/it, Disc_Loss=0.515, Epoch=6, Gen_Loss=3.37]\n",
            "100%|██████████| 7/7 [00:19<00:00,  2.80s/it, Disc_Loss=0.22, Epoch=7, Gen_Loss=4.75]\n",
            "100%|██████████| 7/7 [00:19<00:00,  2.83s/it, Disc_Loss=0.387, Epoch=8, Gen_Loss=6.12]\n",
            "100%|██████████| 7/7 [00:19<00:00,  2.80s/it, Disc_Loss=0.0836, Epoch=9, Gen_Loss=5.65]\n",
            "100%|██████████| 7/7 [00:19<00:00,  2.81s/it, Disc_Loss=0.0578, Epoch=10, Gen_Loss=6.85]\n",
            "100%|██████████| 7/7 [00:19<00:00,  2.80s/it, Disc_Loss=0.195, Epoch=11, Gen_Loss=4.51]\n",
            "100%|██████████| 7/7 [00:19<00:00,  2.80s/it, Disc_Loss=0.277, Epoch=12, Gen_Loss=4.58]\n",
            "100%|██████████| 7/7 [00:19<00:00,  2.79s/it, Disc_Loss=0.0705, Epoch=13, Gen_Loss=5.56]\n",
            "100%|██████████| 7/7 [00:19<00:00,  2.78s/it, Disc_Loss=0.0295, Epoch=14, Gen_Loss=7.13]\n",
            "100%|██████████| 7/7 [00:19<00:00,  2.80s/it, Disc_Loss=0.0101, Epoch=15, Gen_Loss=7.45]\n",
            "100%|██████████| 7/7 [00:19<00:00,  2.80s/it, Disc_Loss=0.0105, Epoch=16, Gen_Loss=7.26]\n",
            "100%|██████████| 7/7 [00:19<00:00,  2.82s/it, Disc_Loss=0.0098, Epoch=17, Gen_Loss=7.21]\n",
            "100%|██████████| 7/7 [00:19<00:00,  2.80s/it, Disc_Loss=0.00919, Epoch=18, Gen_Loss=7.54]\n",
            "100%|██████████| 7/7 [00:19<00:00,  2.85s/it, Disc_Loss=0.0068, Epoch=19, Gen_Loss=7.85]\n",
            "100%|██████████| 7/7 [00:19<00:00,  2.80s/it, Disc_Loss=0.0108, Epoch=20, Gen_Loss=8.18]\n",
            "100%|██████████| 7/7 [00:19<00:00,  2.81s/it, Disc_Loss=0.863, Epoch=21, Gen_Loss=3.36]\n",
            "100%|██████████| 7/7 [00:19<00:00,  2.78s/it, Disc_Loss=0.0925, Epoch=22, Gen_Loss=5.44]\n",
            "100%|██████████| 7/7 [00:19<00:00,  2.82s/it, Disc_Loss=0.234, Epoch=23, Gen_Loss=5.04]\n",
            "100%|██████████| 7/7 [00:19<00:00,  2.80s/it, Disc_Loss=0.366, Epoch=24, Gen_Loss=4.56]\n",
            "100%|██████████| 7/7 [00:19<00:00,  2.81s/it, Disc_Loss=0.644, Epoch=25, Gen_Loss=4.51]\n",
            "100%|██████████| 7/7 [00:19<00:00,  2.79s/it, Disc_Loss=0.515, Epoch=26, Gen_Loss=4.28]\n",
            "100%|██████████| 7/7 [00:19<00:00,  2.83s/it, Disc_Loss=1.01, Epoch=27, Gen_Loss=3.13]\n",
            "100%|██████████| 7/7 [00:19<00:00,  2.81s/it, Disc_Loss=0.454, Epoch=28, Gen_Loss=4.3]\n",
            "100%|██████████| 7/7 [00:19<00:00,  2.84s/it, Disc_Loss=0.444, Epoch=29, Gen_Loss=3.86]\n",
            "100%|██████████| 7/7 [00:19<00:00,  2.81s/it, Disc_Loss=0.445, Epoch=30, Gen_Loss=4.41]\n",
            "100%|██████████| 7/7 [00:19<00:00,  2.85s/it, Disc_Loss=0.46, Epoch=31, Gen_Loss=4.88]\n",
            "100%|██████████| 7/7 [00:19<00:00,  2.82s/it, Disc_Loss=0.403, Epoch=32, Gen_Loss=5.38]\n",
            "100%|██████████| 7/7 [00:19<00:00,  2.82s/it, Disc_Loss=0.704, Epoch=33, Gen_Loss=5.32]\n",
            "100%|██████████| 7/7 [00:19<00:00,  2.80s/it, Disc_Loss=0.447, Epoch=34, Gen_Loss=5.13]\n",
            "100%|██████████| 7/7 [00:19<00:00,  2.82s/it, Disc_Loss=0.394, Epoch=35, Gen_Loss=5.17]\n",
            "100%|██████████| 7/7 [00:19<00:00,  2.82s/it, Disc_Loss=0.367, Epoch=36, Gen_Loss=4.87]\n",
            "100%|██████████| 7/7 [00:19<00:00,  2.81s/it, Disc_Loss=0.409, Epoch=37, Gen_Loss=4.13]\n",
            "100%|██████████| 7/7 [00:19<00:00,  2.84s/it, Disc_Loss=0.473, Epoch=38, Gen_Loss=6.41]\n",
            "100%|██████████| 7/7 [00:19<00:00,  2.81s/it, Disc_Loss=0.527, Epoch=39, Gen_Loss=4.72]\n",
            "100%|██████████| 7/7 [00:19<00:00,  2.84s/it, Disc_Loss=0.603, Epoch=40, Gen_Loss=3.64]\n",
            "100%|██████████| 7/7 [00:19<00:00,  2.82s/it, Disc_Loss=0.43, Epoch=41, Gen_Loss=4.67]\n",
            "100%|██████████| 7/7 [00:19<00:00,  2.84s/it, Disc_Loss=0.492, Epoch=42, Gen_Loss=4.77]\n",
            "100%|██████████| 7/7 [00:19<00:00,  2.81s/it, Disc_Loss=0.793, Epoch=43, Gen_Loss=6.74]\n",
            "100%|██████████| 7/7 [00:19<00:00,  2.82s/it, Disc_Loss=0.458, Epoch=44, Gen_Loss=3.97]\n",
            "100%|██████████| 7/7 [00:19<00:00,  2.81s/it, Disc_Loss=0.516, Epoch=45, Gen_Loss=3.86]\n",
            "100%|██████████| 7/7 [00:19<00:00,  2.83s/it, Disc_Loss=0.587, Epoch=46, Gen_Loss=4.33]\n",
            "100%|██████████| 7/7 [00:19<00:00,  2.83s/it, Disc_Loss=0.475, Epoch=47, Gen_Loss=4.17]\n",
            "100%|██████████| 7/7 [00:20<00:00,  2.87s/it, Disc_Loss=0.525, Epoch=48, Gen_Loss=4.08]\n",
            "100%|██████████| 7/7 [00:19<00:00,  2.81s/it, Disc_Loss=0.428, Epoch=49, Gen_Loss=4.24]\n",
            "100%|██████████| 7/7 [00:19<00:00,  2.82s/it, Disc_Loss=0.784, Epoch=50, Gen_Loss=4.1]\n",
            "100%|██████████| 7/7 [00:19<00:00,  2.82s/it, Disc_Loss=0.527, Epoch=51, Gen_Loss=4.01]\n",
            "100%|██████████| 7/7 [00:19<00:00,  2.85s/it, Disc_Loss=0.569, Epoch=52, Gen_Loss=4.21]\n",
            "100%|██████████| 7/7 [00:19<00:00,  2.82s/it, Disc_Loss=0.493, Epoch=53, Gen_Loss=4]\n",
            "100%|██████████| 7/7 [00:19<00:00,  2.84s/it, Disc_Loss=0.419, Epoch=54, Gen_Loss=5.23]\n",
            "100%|██████████| 7/7 [00:19<00:00,  2.82s/it, Disc_Loss=0.379, Epoch=55, Gen_Loss=5.34]\n",
            "100%|██████████| 7/7 [00:19<00:00,  2.84s/it, Disc_Loss=0.4, Epoch=56, Gen_Loss=4.79]\n",
            "100%|██████████| 7/7 [00:19<00:00,  2.82s/it, Disc_Loss=0.603, Epoch=57, Gen_Loss=4.71]\n",
            "100%|██████████| 7/7 [00:19<00:00,  2.80s/it, Disc_Loss=0.582, Epoch=58, Gen_Loss=4.88]\n",
            "100%|██████████| 7/7 [00:19<00:00,  2.81s/it, Disc_Loss=1.32, Epoch=59, Gen_Loss=4.9]\n",
            "100%|██████████| 7/7 [00:19<00:00,  2.81s/it, Disc_Loss=0.476, Epoch=60, Gen_Loss=3.97]\n",
            "100%|██████████| 7/7 [00:19<00:00,  2.85s/it, Disc_Loss=0.505, Epoch=61, Gen_Loss=4.31]\n",
            "100%|██████████| 7/7 [00:19<00:00,  2.82s/it, Disc_Loss=0.554, Epoch=62, Gen_Loss=4.7]\n",
            "100%|██████████| 7/7 [00:19<00:00,  2.83s/it, Disc_Loss=0.379, Epoch=63, Gen_Loss=4.43]\n",
            "100%|██████████| 7/7 [00:19<00:00,  2.81s/it, Disc_Loss=0.563, Epoch=64, Gen_Loss=4.24]\n",
            "100%|██████████| 7/7 [00:19<00:00,  2.84s/it, Disc_Loss=0.576, Epoch=65, Gen_Loss=4.72]\n",
            "100%|██████████| 7/7 [00:19<00:00,  2.81s/it, Disc_Loss=0.405, Epoch=66, Gen_Loss=4.84]\n",
            "100%|██████████| 7/7 [00:19<00:00,  2.82s/it, Disc_Loss=0.351, Epoch=67, Gen_Loss=4.79]\n",
            "100%|██████████| 7/7 [00:19<00:00,  2.83s/it, Disc_Loss=0.492, Epoch=68, Gen_Loss=4.64]\n",
            "100%|██████████| 7/7 [00:19<00:00,  2.84s/it, Disc_Loss=0.532, Epoch=69, Gen_Loss=4.48]\n",
            "100%|██████████| 7/7 [00:19<00:00,  2.83s/it, Disc_Loss=0.529, Epoch=70, Gen_Loss=4.99]\n",
            "100%|██████████| 7/7 [00:19<00:00,  2.84s/it, Disc_Loss=0.409, Epoch=71, Gen_Loss=5.18]\n",
            "100%|██████████| 7/7 [00:19<00:00,  2.82s/it, Disc_Loss=0.373, Epoch=72, Gen_Loss=5.18]\n",
            "100%|██████████| 7/7 [00:19<00:00,  2.84s/it, Disc_Loss=0.484, Epoch=73, Gen_Loss=4.28]\n",
            "100%|██████████| 7/7 [00:19<00:00,  2.81s/it, Disc_Loss=0.583, Epoch=74, Gen_Loss=4.29]\n",
            "100%|██████████| 7/7 [00:19<00:00,  2.81s/it, Disc_Loss=0.4, Epoch=75, Gen_Loss=4.45]\n",
            "100%|██████████| 7/7 [00:19<00:00,  2.84s/it, Disc_Loss=0.619, Epoch=76, Gen_Loss=4.19]\n",
            "100%|██████████| 7/7 [00:19<00:00,  2.85s/it, Disc_Loss=0.579, Epoch=77, Gen_Loss=5.16]\n",
            "100%|██████████| 7/7 [00:19<00:00,  2.82s/it, Disc_Loss=0.969, Epoch=78, Gen_Loss=3.56]\n",
            "100%|██████████| 7/7 [00:19<00:00,  2.83s/it, Disc_Loss=0.489, Epoch=79, Gen_Loss=4.27]\n",
            "100%|██████████| 7/7 [00:19<00:00,  2.83s/it, Disc_Loss=0.467, Epoch=80, Gen_Loss=4.3]\n",
            "100%|██████████| 7/7 [00:19<00:00,  2.81s/it, Disc_Loss=0.402, Epoch=81, Gen_Loss=5.03]\n",
            "100%|██████████| 7/7 [00:19<00:00,  2.83s/it, Disc_Loss=0.511, Epoch=82, Gen_Loss=5.2]\n",
            "100%|██████████| 7/7 [00:19<00:00,  2.82s/it, Disc_Loss=0.381, Epoch=83, Gen_Loss=4.68]\n",
            "100%|██████████| 7/7 [00:19<00:00,  2.84s/it, Disc_Loss=0.483, Epoch=84, Gen_Loss=5.52]\n",
            "100%|██████████| 7/7 [00:19<00:00,  2.82s/it, Disc_Loss=0.474, Epoch=85, Gen_Loss=4.68]\n",
            "100%|██████████| 7/7 [00:19<00:00,  2.84s/it, Disc_Loss=0.388, Epoch=86, Gen_Loss=5.53]\n",
            "100%|██████████| 7/7 [00:19<00:00,  2.81s/it, Disc_Loss=0.51, Epoch=87, Gen_Loss=4.56]\n",
            "100%|██████████| 7/7 [00:19<00:00,  2.84s/it, Disc_Loss=0.45, Epoch=88, Gen_Loss=5.22]\n",
            "100%|██████████| 7/7 [00:19<00:00,  2.81s/it, Disc_Loss=0.501, Epoch=89, Gen_Loss=5.5]\n",
            "100%|██████████| 7/7 [00:19<00:00,  2.82s/it, Disc_Loss=0.46, Epoch=90, Gen_Loss=5.03]\n",
            "100%|██████████| 7/7 [00:19<00:00,  2.82s/it, Disc_Loss=0.301, Epoch=91, Gen_Loss=5.11]\n",
            "100%|██████████| 7/7 [00:19<00:00,  2.84s/it, Disc_Loss=0.524, Epoch=92, Gen_Loss=5.86]\n",
            "100%|██████████| 7/7 [00:19<00:00,  2.83s/it, Disc_Loss=0.571, Epoch=93, Gen_Loss=4.62]\n",
            "100%|██████████| 7/7 [00:19<00:00,  2.85s/it, Disc_Loss=0.385, Epoch=94, Gen_Loss=6.16]\n",
            "100%|██████████| 7/7 [00:19<00:00,  2.81s/it, Disc_Loss=0.298, Epoch=95, Gen_Loss=4.97]\n",
            "100%|██████████| 7/7 [00:19<00:00,  2.83s/it, Disc_Loss=0.652, Epoch=96, Gen_Loss=5.17]\n",
            "100%|██████████| 7/7 [00:19<00:00,  2.82s/it, Disc_Loss=0.343, Epoch=97, Gen_Loss=4.92]\n",
            "100%|██████████| 7/7 [00:19<00:00,  2.80s/it, Disc_Loss=0.381, Epoch=98, Gen_Loss=4.99]\n",
            "100%|██████████| 7/7 [00:19<00:00,  2.83s/it, Disc_Loss=0.34, Epoch=99, Gen_Loss=5.27]\n"
          ]
        },
        {
          "output_type": "display_data",
          "data": {
            "text/plain": [
              "<IPython.core.display.Javascript object>"
            ],
            "application/javascript": [
              "\n",
              "    async function download(id, filename, size) {\n",
              "      if (!google.colab.kernel.accessAllowed) {\n",
              "        return;\n",
              "      }\n",
              "      const div = document.createElement('div');\n",
              "      const label = document.createElement('label');\n",
              "      label.textContent = `Downloading \"${filename}\": `;\n",
              "      div.appendChild(label);\n",
              "      const progress = document.createElement('progress');\n",
              "      progress.max = size;\n",
              "      div.appendChild(progress);\n",
              "      document.body.appendChild(div);\n",
              "\n",
              "      const buffers = [];\n",
              "      let downloaded = 0;\n",
              "\n",
              "      const channel = await google.colab.kernel.comms.open(id);\n",
              "      // Send a message to notify the kernel that we're ready.\n",
              "      channel.send({})\n",
              "\n",
              "      for await (const message of channel.messages) {\n",
              "        // Send a message to notify the kernel that we're ready.\n",
              "        channel.send({})\n",
              "        if (message.buffers) {\n",
              "          for (const buffer of message.buffers) {\n",
              "            buffers.push(buffer);\n",
              "            downloaded += buffer.byteLength;\n",
              "            progress.value = downloaded;\n",
              "          }\n",
              "        }\n",
              "      }\n",
              "      const blob = new Blob(buffers, {type: 'application/binary'});\n",
              "      const a = document.createElement('a');\n",
              "      a.href = window.URL.createObjectURL(blob);\n",
              "      a.download = filename;\n",
              "      div.appendChild(a);\n",
              "      a.click();\n",
              "      div.remove();\n",
              "    }\n",
              "  "
            ]
          },
          "metadata": {}
        },
        {
          "output_type": "display_data",
          "data": {
            "text/plain": [
              "<IPython.core.display.Javascript object>"
            ],
            "application/javascript": [
              "download(\"download_b76bf63f-de92-41cc-ae4e-49fa8d9079dc\", \"generator_water-texture.pth\", 47892896)"
            ]
          },
          "metadata": {}
        }
      ],
      "source": [
        "#call the training function\n",
        "train(discriminator, generator, dataloader, optim_D, optim_G)"
      ]
    },
    {
      "cell_type": "code",
      "source": [
        "#In the case of data-free approach open the image and convert it to a tensor\n",
        "if(not d_driven):\n",
        "    image = Image.open(imagePath).convert('RGB')\n",
        "    image = np.array(image)\n",
        "    image = to_tensor(image)"
      ],
      "metadata": {
        "id": "H_yua8kFgd8R"
      },
      "execution_count": null,
      "outputs": []
    },
    {
      "cell_type": "code",
      "source": [
        "#Define a transformation\n",
        "trans = transforms.Compose([\n",
        "    transforms.RandomCrop((512, 512)),\n",
        "    transforms.Normalize(mean=[0.5, 0.5, 0.5], std=[0.5, 0.5, 0.5])\n",
        "])"
      ],
      "metadata": {
        "id": "bY3qjipFKGR0"
      },
      "execution_count": null,
      "outputs": []
    },
    {
      "cell_type": "code",
      "source": [
        "#loading the Generator and putting it on eval mode\n",
        "gen = Generator().to(device)\n",
        "gen.load_state_dict(torch.load(f'generator_{textureName}.pth'))\n",
        "gen.eval()"
      ],
      "metadata": {
        "id": "KtzvuycAKPXT",
        "colab": {
          "base_uri": "https://localhost:8080/"
        },
        "outputId": "d91f8d44-83b9-4ed4-9d95-4671a72997da"
      },
      "execution_count": null,
      "outputs": [
        {
          "output_type": "execute_result",
          "data": {
            "text/plain": [
              "Generator(\n",
              "  (model): Sequential(\n",
              "    (0): ReflectionPad2d((3, 3, 3, 3))\n",
              "    (1): Conv2d(3, 64, kernel_size=(7, 7), stride=(1, 1))\n",
              "    (2): InstanceNorm2d(64, eps=1e-05, momentum=0.1, affine=False, track_running_stats=False)\n",
              "    (3): ReLU(inplace=True)\n",
              "    (4): Conv2d(64, 128, kernel_size=(3, 3), stride=(2, 2), padding=(1, 1))\n",
              "    (5): InstanceNorm2d(128, eps=1e-05, momentum=0.1, affine=False, track_running_stats=False)\n",
              "    (6): ReLU(inplace=True)\n",
              "    (7): Conv2d(128, 256, kernel_size=(3, 3), stride=(2, 2), padding=(1, 1))\n",
              "    (8): InstanceNorm2d(256, eps=1e-05, momentum=0.1, affine=False, track_running_stats=False)\n",
              "    (9): ReLU(inplace=True)\n",
              "    (10): Sequential(\n",
              "      (0): ReflectionPad2d((1, 1, 1, 1))\n",
              "      (1): Conv2d(256, 256, kernel_size=(3, 3), stride=(1, 1))\n",
              "      (2): InstanceNorm2d(256, eps=1e-05, momentum=0.1, affine=False, track_running_stats=False)\n",
              "      (3): ReLU(inplace=True)\n",
              "      (4): ReflectionPad2d((1, 1, 1, 1))\n",
              "      (5): Conv2d(256, 256, kernel_size=(3, 3), stride=(1, 1))\n",
              "      (6): InstanceNorm2d(256, eps=1e-05, momentum=0.1, affine=False, track_running_stats=False)\n",
              "    )\n",
              "    (11): Sequential(\n",
              "      (0): ReflectionPad2d((1, 1, 1, 1))\n",
              "      (1): Conv2d(256, 256, kernel_size=(3, 3), stride=(1, 1))\n",
              "      (2): InstanceNorm2d(256, eps=1e-05, momentum=0.1, affine=False, track_running_stats=False)\n",
              "      (3): ReLU(inplace=True)\n",
              "      (4): ReflectionPad2d((1, 1, 1, 1))\n",
              "      (5): Conv2d(256, 256, kernel_size=(3, 3), stride=(1, 1))\n",
              "      (6): InstanceNorm2d(256, eps=1e-05, momentum=0.1, affine=False, track_running_stats=False)\n",
              "    )\n",
              "    (12): Sequential(\n",
              "      (0): ReflectionPad2d((1, 1, 1, 1))\n",
              "      (1): Conv2d(256, 256, kernel_size=(3, 3), stride=(1, 1))\n",
              "      (2): InstanceNorm2d(256, eps=1e-05, momentum=0.1, affine=False, track_running_stats=False)\n",
              "      (3): ReLU(inplace=True)\n",
              "      (4): ReflectionPad2d((1, 1, 1, 1))\n",
              "      (5): Conv2d(256, 256, kernel_size=(3, 3), stride=(1, 1))\n",
              "      (6): InstanceNorm2d(256, eps=1e-05, momentum=0.1, affine=False, track_running_stats=False)\n",
              "    )\n",
              "    (13): Sequential(\n",
              "      (0): ReflectionPad2d((1, 1, 1, 1))\n",
              "      (1): Conv2d(256, 256, kernel_size=(3, 3), stride=(1, 1))\n",
              "      (2): InstanceNorm2d(256, eps=1e-05, momentum=0.1, affine=False, track_running_stats=False)\n",
              "      (3): ReLU(inplace=True)\n",
              "      (4): ReflectionPad2d((1, 1, 1, 1))\n",
              "      (5): Conv2d(256, 256, kernel_size=(3, 3), stride=(1, 1))\n",
              "      (6): InstanceNorm2d(256, eps=1e-05, momentum=0.1, affine=False, track_running_stats=False)\n",
              "    )\n",
              "    (14): Sequential(\n",
              "      (0): ReflectionPad2d((1, 1, 1, 1))\n",
              "      (1): Conv2d(256, 256, kernel_size=(3, 3), stride=(1, 1))\n",
              "      (2): InstanceNorm2d(256, eps=1e-05, momentum=0.1, affine=False, track_running_stats=False)\n",
              "      (3): ReLU(inplace=True)\n",
              "      (4): ReflectionPad2d((1, 1, 1, 1))\n",
              "      (5): Conv2d(256, 256, kernel_size=(3, 3), stride=(1, 1))\n",
              "      (6): InstanceNorm2d(256, eps=1e-05, momentum=0.1, affine=False, track_running_stats=False)\n",
              "    )\n",
              "    (15): Sequential(\n",
              "      (0): ReflectionPad2d((1, 1, 1, 1))\n",
              "      (1): Conv2d(256, 256, kernel_size=(3, 3), stride=(1, 1))\n",
              "      (2): InstanceNorm2d(256, eps=1e-05, momentum=0.1, affine=False, track_running_stats=False)\n",
              "      (3): ReLU(inplace=True)\n",
              "      (4): ReflectionPad2d((1, 1, 1, 1))\n",
              "      (5): Conv2d(256, 256, kernel_size=(3, 3), stride=(1, 1))\n",
              "      (6): InstanceNorm2d(256, eps=1e-05, momentum=0.1, affine=False, track_running_stats=False)\n",
              "    )\n",
              "    (16): Sequential(\n",
              "      (0): ReflectionPad2d((1, 1, 1, 1))\n",
              "      (1): Conv2d(256, 256, kernel_size=(3, 3), stride=(1, 1))\n",
              "      (2): InstanceNorm2d(256, eps=1e-05, momentum=0.1, affine=False, track_running_stats=False)\n",
              "      (3): ReLU(inplace=True)\n",
              "      (4): ReflectionPad2d((1, 1, 1, 1))\n",
              "      (5): Conv2d(256, 256, kernel_size=(3, 3), stride=(1, 1))\n",
              "      (6): InstanceNorm2d(256, eps=1e-05, momentum=0.1, affine=False, track_running_stats=False)\n",
              "    )\n",
              "    (17): Sequential(\n",
              "      (0): ReflectionPad2d((1, 1, 1, 1))\n",
              "      (1): Conv2d(256, 256, kernel_size=(3, 3), stride=(1, 1))\n",
              "      (2): InstanceNorm2d(256, eps=1e-05, momentum=0.1, affine=False, track_running_stats=False)\n",
              "      (3): ReLU(inplace=True)\n",
              "      (4): ReflectionPad2d((1, 1, 1, 1))\n",
              "      (5): Conv2d(256, 256, kernel_size=(3, 3), stride=(1, 1))\n",
              "      (6): InstanceNorm2d(256, eps=1e-05, momentum=0.1, affine=False, track_running_stats=False)\n",
              "    )\n",
              "    (18): Sequential(\n",
              "      (0): ReflectionPad2d((1, 1, 1, 1))\n",
              "      (1): Conv2d(256, 256, kernel_size=(3, 3), stride=(1, 1))\n",
              "      (2): InstanceNorm2d(256, eps=1e-05, momentum=0.1, affine=False, track_running_stats=False)\n",
              "      (3): ReLU(inplace=True)\n",
              "      (4): ReflectionPad2d((1, 1, 1, 1))\n",
              "      (5): Conv2d(256, 256, kernel_size=(3, 3), stride=(1, 1))\n",
              "      (6): InstanceNorm2d(256, eps=1e-05, momentum=0.1, affine=False, track_running_stats=False)\n",
              "    )\n",
              "    (19): ConvTranspose2d(256, 256, kernel_size=(3, 3), stride=(2, 2), padding=(1, 1), output_padding=(1, 1))\n",
              "    (20): InstanceNorm2d(256, eps=1e-05, momentum=0.1, affine=False, track_running_stats=False)\n",
              "    (21): ReLU(inplace=True)\n",
              "    (22): Upsample(scale_factor=2.0, mode='nearest')\n",
              "    (23): Conv2d(256, 128, kernel_size=(3, 3), stride=(1, 1), padding=(1, 1))\n",
              "    (24): InstanceNorm2d(128, eps=1e-05, momentum=0.1, affine=False, track_running_stats=False)\n",
              "    (25): ReLU(inplace=True)\n",
              "    (26): Upsample(scale_factor=2.0, mode='nearest')\n",
              "    (27): Conv2d(128, 64, kernel_size=(3, 3), stride=(1, 1), padding=(1, 1))\n",
              "    (28): InstanceNorm2d(64, eps=1e-05, momentum=0.1, affine=False, track_running_stats=False)\n",
              "    (29): ReLU(inplace=True)\n",
              "    (30): ReflectionPad2d((3, 3, 3, 3))\n",
              "    (31): Conv2d(64, 3, kernel_size=(7, 7), stride=(1, 1))\n",
              "    (32): Tanh()\n",
              "  )\n",
              ")"
            ]
          },
          "metadata": {},
          "execution_count": 19
        }
      ]
    },
    {
      "cell_type": "code",
      "source": [
        "#In the case of data-free approach create 10 random crop images from the original image.\n",
        "if(not d_driven):\n",
        "    images = [trans(image).unsqueeze(0).to(device) for i in range(10)]\n",
        "    resize_transform = Resize((512, 512))"
      ],
      "metadata": {
        "id": "BzvDJw_yLNmP"
      },
      "execution_count": null,
      "outputs": []
    },
    {
      "cell_type": "code",
      "source": [
        "#function used to save and download the result both in the data-free and data-driven approach\n",
        "def save_and_download(output, i):\n",
        "    output = output * 0.5 + 0.5\n",
        "    save_image(output, f\"my_data/{textureName}_{i}.png\")\n",
        "    files.download(f\"my_data/{textureName}_{i}.png\")"
      ],
      "metadata": {
        "id": "BQKtzpBwZhN7"
      },
      "execution_count": null,
      "outputs": []
    },
    {
      "cell_type": "code",
      "execution_count": null,
      "metadata": {
        "id": "SeJJc5u2bDcn",
        "colab": {
          "base_uri": "https://localhost:8080/",
          "height": 17
        },
        "outputId": "c605130d-18a6-4fe1-c4f5-c6cc340044bf"
      },
      "outputs": [
        {
          "output_type": "display_data",
          "data": {
            "text/plain": [
              "<IPython.core.display.Javascript object>"
            ],
            "application/javascript": [
              "\n",
              "    async function download(id, filename, size) {\n",
              "      if (!google.colab.kernel.accessAllowed) {\n",
              "        return;\n",
              "      }\n",
              "      const div = document.createElement('div');\n",
              "      const label = document.createElement('label');\n",
              "      label.textContent = `Downloading \"${filename}\": `;\n",
              "      div.appendChild(label);\n",
              "      const progress = document.createElement('progress');\n",
              "      progress.max = size;\n",
              "      div.appendChild(progress);\n",
              "      document.body.appendChild(div);\n",
              "\n",
              "      const buffers = [];\n",
              "      let downloaded = 0;\n",
              "\n",
              "      const channel = await google.colab.kernel.comms.open(id);\n",
              "      // Send a message to notify the kernel that we're ready.\n",
              "      channel.send({})\n",
              "\n",
              "      for await (const message of channel.messages) {\n",
              "        // Send a message to notify the kernel that we're ready.\n",
              "        channel.send({})\n",
              "        if (message.buffers) {\n",
              "          for (const buffer of message.buffers) {\n",
              "            buffers.push(buffer);\n",
              "            downloaded += buffer.byteLength;\n",
              "            progress.value = downloaded;\n",
              "          }\n",
              "        }\n",
              "      }\n",
              "      const blob = new Blob(buffers, {type: 'application/binary'});\n",
              "      const a = document.createElement('a');\n",
              "      a.href = window.URL.createObjectURL(blob);\n",
              "      a.download = filename;\n",
              "      div.appendChild(a);\n",
              "      a.click();\n",
              "      div.remove();\n",
              "    }\n",
              "  "
            ]
          },
          "metadata": {}
        },
        {
          "output_type": "display_data",
          "data": {
            "text/plain": [
              "<IPython.core.display.Javascript object>"
            ],
            "application/javascript": [
              "download(\"download_c1e80ed5-b392-41d9-ba25-613d7dca96ce\", \"water-texture_0.png\", 422575)"
            ]
          },
          "metadata": {}
        },
        {
          "output_type": "display_data",
          "data": {
            "text/plain": [
              "<IPython.core.display.Javascript object>"
            ],
            "application/javascript": [
              "\n",
              "    async function download(id, filename, size) {\n",
              "      if (!google.colab.kernel.accessAllowed) {\n",
              "        return;\n",
              "      }\n",
              "      const div = document.createElement('div');\n",
              "      const label = document.createElement('label');\n",
              "      label.textContent = `Downloading \"${filename}\": `;\n",
              "      div.appendChild(label);\n",
              "      const progress = document.createElement('progress');\n",
              "      progress.max = size;\n",
              "      div.appendChild(progress);\n",
              "      document.body.appendChild(div);\n",
              "\n",
              "      const buffers = [];\n",
              "      let downloaded = 0;\n",
              "\n",
              "      const channel = await google.colab.kernel.comms.open(id);\n",
              "      // Send a message to notify the kernel that we're ready.\n",
              "      channel.send({})\n",
              "\n",
              "      for await (const message of channel.messages) {\n",
              "        // Send a message to notify the kernel that we're ready.\n",
              "        channel.send({})\n",
              "        if (message.buffers) {\n",
              "          for (const buffer of message.buffers) {\n",
              "            buffers.push(buffer);\n",
              "            downloaded += buffer.byteLength;\n",
              "            progress.value = downloaded;\n",
              "          }\n",
              "        }\n",
              "      }\n",
              "      const blob = new Blob(buffers, {type: 'application/binary'});\n",
              "      const a = document.createElement('a');\n",
              "      a.href = window.URL.createObjectURL(blob);\n",
              "      a.download = filename;\n",
              "      div.appendChild(a);\n",
              "      a.click();\n",
              "      div.remove();\n",
              "    }\n",
              "  "
            ]
          },
          "metadata": {}
        },
        {
          "output_type": "display_data",
          "data": {
            "text/plain": [
              "<IPython.core.display.Javascript object>"
            ],
            "application/javascript": [
              "download(\"download_b7c58797-14a0-42d7-8d6b-e075c46e3835\", \"water-texture_1.png\", 424914)"
            ]
          },
          "metadata": {}
        },
        {
          "output_type": "display_data",
          "data": {
            "text/plain": [
              "<IPython.core.display.Javascript object>"
            ],
            "application/javascript": [
              "\n",
              "    async function download(id, filename, size) {\n",
              "      if (!google.colab.kernel.accessAllowed) {\n",
              "        return;\n",
              "      }\n",
              "      const div = document.createElement('div');\n",
              "      const label = document.createElement('label');\n",
              "      label.textContent = `Downloading \"${filename}\": `;\n",
              "      div.appendChild(label);\n",
              "      const progress = document.createElement('progress');\n",
              "      progress.max = size;\n",
              "      div.appendChild(progress);\n",
              "      document.body.appendChild(div);\n",
              "\n",
              "      const buffers = [];\n",
              "      let downloaded = 0;\n",
              "\n",
              "      const channel = await google.colab.kernel.comms.open(id);\n",
              "      // Send a message to notify the kernel that we're ready.\n",
              "      channel.send({})\n",
              "\n",
              "      for await (const message of channel.messages) {\n",
              "        // Send a message to notify the kernel that we're ready.\n",
              "        channel.send({})\n",
              "        if (message.buffers) {\n",
              "          for (const buffer of message.buffers) {\n",
              "            buffers.push(buffer);\n",
              "            downloaded += buffer.byteLength;\n",
              "            progress.value = downloaded;\n",
              "          }\n",
              "        }\n",
              "      }\n",
              "      const blob = new Blob(buffers, {type: 'application/binary'});\n",
              "      const a = document.createElement('a');\n",
              "      a.href = window.URL.createObjectURL(blob);\n",
              "      a.download = filename;\n",
              "      div.appendChild(a);\n",
              "      a.click();\n",
              "      div.remove();\n",
              "    }\n",
              "  "
            ]
          },
          "metadata": {}
        },
        {
          "output_type": "display_data",
          "data": {
            "text/plain": [
              "<IPython.core.display.Javascript object>"
            ],
            "application/javascript": [
              "download(\"download_1a8ffa18-57ad-485d-a2d0-a60baedfd142\", \"water-texture_2.png\", 424269)"
            ]
          },
          "metadata": {}
        },
        {
          "output_type": "display_data",
          "data": {
            "text/plain": [
              "<IPython.core.display.Javascript object>"
            ],
            "application/javascript": [
              "\n",
              "    async function download(id, filename, size) {\n",
              "      if (!google.colab.kernel.accessAllowed) {\n",
              "        return;\n",
              "      }\n",
              "      const div = document.createElement('div');\n",
              "      const label = document.createElement('label');\n",
              "      label.textContent = `Downloading \"${filename}\": `;\n",
              "      div.appendChild(label);\n",
              "      const progress = document.createElement('progress');\n",
              "      progress.max = size;\n",
              "      div.appendChild(progress);\n",
              "      document.body.appendChild(div);\n",
              "\n",
              "      const buffers = [];\n",
              "      let downloaded = 0;\n",
              "\n",
              "      const channel = await google.colab.kernel.comms.open(id);\n",
              "      // Send a message to notify the kernel that we're ready.\n",
              "      channel.send({})\n",
              "\n",
              "      for await (const message of channel.messages) {\n",
              "        // Send a message to notify the kernel that we're ready.\n",
              "        channel.send({})\n",
              "        if (message.buffers) {\n",
              "          for (const buffer of message.buffers) {\n",
              "            buffers.push(buffer);\n",
              "            downloaded += buffer.byteLength;\n",
              "            progress.value = downloaded;\n",
              "          }\n",
              "        }\n",
              "      }\n",
              "      const blob = new Blob(buffers, {type: 'application/binary'});\n",
              "      const a = document.createElement('a');\n",
              "      a.href = window.URL.createObjectURL(blob);\n",
              "      a.download = filename;\n",
              "      div.appendChild(a);\n",
              "      a.click();\n",
              "      div.remove();\n",
              "    }\n",
              "  "
            ]
          },
          "metadata": {}
        },
        {
          "output_type": "display_data",
          "data": {
            "text/plain": [
              "<IPython.core.display.Javascript object>"
            ],
            "application/javascript": [
              "download(\"download_dd25334e-2789-4f44-9932-325e122c6542\", \"water-texture_3.png\", 423770)"
            ]
          },
          "metadata": {}
        },
        {
          "output_type": "display_data",
          "data": {
            "text/plain": [
              "<IPython.core.display.Javascript object>"
            ],
            "application/javascript": [
              "\n",
              "    async function download(id, filename, size) {\n",
              "      if (!google.colab.kernel.accessAllowed) {\n",
              "        return;\n",
              "      }\n",
              "      const div = document.createElement('div');\n",
              "      const label = document.createElement('label');\n",
              "      label.textContent = `Downloading \"${filename}\": `;\n",
              "      div.appendChild(label);\n",
              "      const progress = document.createElement('progress');\n",
              "      progress.max = size;\n",
              "      div.appendChild(progress);\n",
              "      document.body.appendChild(div);\n",
              "\n",
              "      const buffers = [];\n",
              "      let downloaded = 0;\n",
              "\n",
              "      const channel = await google.colab.kernel.comms.open(id);\n",
              "      // Send a message to notify the kernel that we're ready.\n",
              "      channel.send({})\n",
              "\n",
              "      for await (const message of channel.messages) {\n",
              "        // Send a message to notify the kernel that we're ready.\n",
              "        channel.send({})\n",
              "        if (message.buffers) {\n",
              "          for (const buffer of message.buffers) {\n",
              "            buffers.push(buffer);\n",
              "            downloaded += buffer.byteLength;\n",
              "            progress.value = downloaded;\n",
              "          }\n",
              "        }\n",
              "      }\n",
              "      const blob = new Blob(buffers, {type: 'application/binary'});\n",
              "      const a = document.createElement('a');\n",
              "      a.href = window.URL.createObjectURL(blob);\n",
              "      a.download = filename;\n",
              "      div.appendChild(a);\n",
              "      a.click();\n",
              "      div.remove();\n",
              "    }\n",
              "  "
            ]
          },
          "metadata": {}
        },
        {
          "output_type": "display_data",
          "data": {
            "text/plain": [
              "<IPython.core.display.Javascript object>"
            ],
            "application/javascript": [
              "download(\"download_50c5864c-0471-444c-b0aa-62b817f89fe7\", \"water-texture_4.png\", 422632)"
            ]
          },
          "metadata": {}
        },
        {
          "output_type": "display_data",
          "data": {
            "text/plain": [
              "<IPython.core.display.Javascript object>"
            ],
            "application/javascript": [
              "\n",
              "    async function download(id, filename, size) {\n",
              "      if (!google.colab.kernel.accessAllowed) {\n",
              "        return;\n",
              "      }\n",
              "      const div = document.createElement('div');\n",
              "      const label = document.createElement('label');\n",
              "      label.textContent = `Downloading \"${filename}\": `;\n",
              "      div.appendChild(label);\n",
              "      const progress = document.createElement('progress');\n",
              "      progress.max = size;\n",
              "      div.appendChild(progress);\n",
              "      document.body.appendChild(div);\n",
              "\n",
              "      const buffers = [];\n",
              "      let downloaded = 0;\n",
              "\n",
              "      const channel = await google.colab.kernel.comms.open(id);\n",
              "      // Send a message to notify the kernel that we're ready.\n",
              "      channel.send({})\n",
              "\n",
              "      for await (const message of channel.messages) {\n",
              "        // Send a message to notify the kernel that we're ready.\n",
              "        channel.send({})\n",
              "        if (message.buffers) {\n",
              "          for (const buffer of message.buffers) {\n",
              "            buffers.push(buffer);\n",
              "            downloaded += buffer.byteLength;\n",
              "            progress.value = downloaded;\n",
              "          }\n",
              "        }\n",
              "      }\n",
              "      const blob = new Blob(buffers, {type: 'application/binary'});\n",
              "      const a = document.createElement('a');\n",
              "      a.href = window.URL.createObjectURL(blob);\n",
              "      a.download = filename;\n",
              "      div.appendChild(a);\n",
              "      a.click();\n",
              "      div.remove();\n",
              "    }\n",
              "  "
            ]
          },
          "metadata": {}
        },
        {
          "output_type": "display_data",
          "data": {
            "text/plain": [
              "<IPython.core.display.Javascript object>"
            ],
            "application/javascript": [
              "download(\"download_16027dde-fc15-484f-a5f6-679bbf055a18\", \"water-texture_5.png\", 425528)"
            ]
          },
          "metadata": {}
        },
        {
          "output_type": "display_data",
          "data": {
            "text/plain": [
              "<IPython.core.display.Javascript object>"
            ],
            "application/javascript": [
              "\n",
              "    async function download(id, filename, size) {\n",
              "      if (!google.colab.kernel.accessAllowed) {\n",
              "        return;\n",
              "      }\n",
              "      const div = document.createElement('div');\n",
              "      const label = document.createElement('label');\n",
              "      label.textContent = `Downloading \"${filename}\": `;\n",
              "      div.appendChild(label);\n",
              "      const progress = document.createElement('progress');\n",
              "      progress.max = size;\n",
              "      div.appendChild(progress);\n",
              "      document.body.appendChild(div);\n",
              "\n",
              "      const buffers = [];\n",
              "      let downloaded = 0;\n",
              "\n",
              "      const channel = await google.colab.kernel.comms.open(id);\n",
              "      // Send a message to notify the kernel that we're ready.\n",
              "      channel.send({})\n",
              "\n",
              "      for await (const message of channel.messages) {\n",
              "        // Send a message to notify the kernel that we're ready.\n",
              "        channel.send({})\n",
              "        if (message.buffers) {\n",
              "          for (const buffer of message.buffers) {\n",
              "            buffers.push(buffer);\n",
              "            downloaded += buffer.byteLength;\n",
              "            progress.value = downloaded;\n",
              "          }\n",
              "        }\n",
              "      }\n",
              "      const blob = new Blob(buffers, {type: 'application/binary'});\n",
              "      const a = document.createElement('a');\n",
              "      a.href = window.URL.createObjectURL(blob);\n",
              "      a.download = filename;\n",
              "      div.appendChild(a);\n",
              "      a.click();\n",
              "      div.remove();\n",
              "    }\n",
              "  "
            ]
          },
          "metadata": {}
        },
        {
          "output_type": "display_data",
          "data": {
            "text/plain": [
              "<IPython.core.display.Javascript object>"
            ],
            "application/javascript": [
              "download(\"download_5385b46c-2f3c-480e-ada7-6a611f98d61c\", \"water-texture_6.png\", 424723)"
            ]
          },
          "metadata": {}
        }
      ],
      "source": [
        "#generate images using the newly trained model\n",
        "\n",
        "image = images[0]\n",
        "\n",
        "for i in range(7):\n",
        "    if(d_driven):\n",
        "        noise = torch.normal(0, 1, size=(8, 3, 256, 256)).to(device)\n",
        "        output = gen(noise)\n",
        "    else:\n",
        "        noise = torch.normal(0, 1, size=image.shape).to(device)\n",
        "        output = gen(noise)\n",
        "        output = resize_transform(output)\n",
        "\n",
        "    save_and_download(output, i)"
      ]
    }
  ],
  "metadata": {
    "accelerator": "GPU",
    "colab": {
      "provenance": []
    },
    "kernelspec": {
      "display_name": "Python 3",
      "name": "python3"
    },
    "language_info": {
      "name": "python"
    }
  },
  "nbformat": 4,
  "nbformat_minor": 0
}